{
 "cells": [
  {
   "cell_type": "code",
   "execution_count": 2,
   "id": "9a630297-f6bd-486e-a52a-dcd7b418f942",
   "metadata": {
    "tags": []
   },
   "outputs": [],
   "source": [
    "import vertexai\n",
    "from vertexai.generative_models import GenerativeModel\n",
    "from google.cloud import storage\n",
    "import io,json \n",
    "\n",
    "from PIL import Image as PIL_Image\n",
    "\n",
    "PROJECT_ID = \"\"\n",
    "LOCATION = \"us-central1\"\n",
    "vertexai.init(project=PROJECT_ID, location=LOCATION)\n",
    "\n",
    "bucket_name = \"\"\n",
    "multimodal_model = GenerativeModel(\"gemini-1.0-pro-vision\")\n",
    "\n",
    "def load_image_from_gcs(bucket_name: str, blob_name: str) -> 'Image':\n",
    "    \"\"\"Load an image from Google Cloud Storage into the format expected by Vertex AI.\"\"\"\n",
    "    client = storage.Client()\n",
    "    bucket = client.bucket(bucket_name)\n",
    "    blob = bucket.blob(blob_name)\n",
    "    image_bytes = blob.download_as_bytes()\n",
    "    \n",
    "    pil_image = PIL_Image.open(io.BytesIO(image_bytes))\n",
    "    pil_image_rgb = pil_image.convert(\"RGB\")\n",
    "    \n",
    "    img_byte_arr = io.BytesIO()\n",
    "    pil_image_rgb.save(img_byte_arr, format='JPEG')\n",
    "    img_byte_arr = img_byte_arr.getvalue()\n",
    "    \n",
    "    return vertexai.generative_models.Image.from_bytes(img_byte_arr)"
   ]
  },
  {
   "cell_type": "code",
   "execution_count": 3,
   "id": "4b212d41-9bb9-4394-b02d-635daa9d371b",
   "metadata": {
    "tags": []
   },
   "outputs": [],
   "source": [
    "sneaker_image_paths = [\n",
    "    \"sneaker-collections/nike1.jpg\",\n",
    "    \"sneaker-collections/nike2.jpg\",\n",
    "    \"sneaker-collections/nike3.jpg\",\n",
    "    \"sneaker-collections/nike4.jpg\",\n",
    "    \"sneaker-collections/nike5.jpg\",\n",
    "    \"sneaker-collections/adidas1.png\",\n",
    "    \"sneaker-collections/adidas2.png\",\n",
    "    \"sneaker-collections/adidas3.png\",\n",
    "    \"sneaker-collections/adidas4.png\",\n",
    "    \"sneaker-collections/adidas5.png\"   \n",
    "]\n",
    "sneaker_images = [load_image_from_gcs(bucket_name, path) for path in sneaker_image_paths]"
   ]
  },
  {
   "cell_type": "code",
   "execution_count": 4,
   "id": "16d88035-db72-434b-be51-9491a0267a37",
   "metadata": {
    "tags": []
   },
   "outputs": [],
   "source": [
    "input_image_path = \"user-input-images/input2.png\"\n",
    "input_image = load_image_from_gcs(bucket_name, input_image_path)"
   ]
  },
  {
   "cell_type": "code",
   "execution_count": 5,
   "id": "df972f05-8ea0-4863-96aa-56b37f88901f",
   "metadata": {
    "tags": []
   },
   "outputs": [
    {
     "name": "stdout",
     "output_type": "stream",
     "text": [
      " The picture shows a pair of blue jeans. The jeans are straight-legged and have a medium rise. They are made of a cotton blend fabric and have\n",
      " a zip fly and button closure.\n"
     ]
    }
   ],
   "source": [
    "prompt = \"Describe just the tshirt,shirt,trousers or jeans in the picture in brief\"\n",
    "contents = [\n",
    "    prompt,\n",
    "    input_image,\n",
    "]\n",
    "responses = multimodal_model.generate_content(contents, stream=True)\n",
    "\n",
    "for response in responses:\n",
    "    print(response.text)"
   ]
  },
  {
   "cell_type": "code",
   "execution_count": 8,
   "id": "731859a1-6dec-4017-a335-d57b85184048",
   "metadata": {
    "tags": []
   },
   "outputs": [
    {
     "name": "stdout",
     "output_type": "stream",
     "text": [
      "{\n",
      "                \"explanation\": \"Here are some adidas sneakers that match your preferences:\",\n",
      "                \"image_paths\": [\"https://storage.cloud.google.com/llm-demo-v1/sneaker-collections/adidas1.png?authuser=4\", \"https://storage.cloud.google.com/llm-demo-v1/sneaker-collections/adidas2.png?authuser=4\", \"https://storage.cloud.google.com/llm-demo-v1/sneaker-collections/adidas3.png?authuser=4\"]}\n"
     ]
    }
   ],
   "source": [
    "user_input_prompt = f\"\"\"\n",
    "        I am looking for adidas sneakers costing between 300 and 500 dirhams.\n",
    "            \"\"\"\n",
    "\n",
    "instructions_prompt = f\"\"\"Fetch the colors and the product price first.Then only select 3 to 4 products \n",
    "                that match the user preferences.\n",
    "                If no products match the user preference or budget, then say \"Sorry, we do not have \n",
    "                products matching your preferences\".\n",
    "                Think step by step before responding.\n",
    "                The User says : {user_input_prompt}\n",
    "                \"\"\"\n",
    "\n",
    "output_prompt = \"\"\"\n",
    "            Output Format:\n",
    "                1: Respond in json with 2 keys explanation and image_path.\n",
    "                2: explanation must be your response to the above user request strictly matching their preferences\n",
    "                and image_path must be the path of the product images that you have chosen. \n",
    "                3: Output Format must be strictly a json string in the below format with no illegal string terminations\n",
    "                and must be inside quotes. For example : \"{{'explanation':'','image_paths':''}}\"\n",
    "                Pay attention to the user preferences before responding.\n",
    "                \"\"\"\n",
    "\n",
    "contents = [\n",
    "    \"Consider the following sneakers:\",\n",
    "    \"Nike Air Max 1:\",\n",
    "    sneaker_images[0],\"https://storage.cloud.google.com/llm-demo-v1/sneaker-collections/nike1.jpg?authuser=4\",\n",
    "    \"Nike Air max SC:\",\n",
    "    sneaker_images[1],\"https://storage.cloud.google.com/llm-demo-v1/sneaker-collections/nike2.jpg?authuser=4\",\n",
    "    \"Nike Air Max 1 Black:\",\n",
    "    sneaker_images[2],\"https://storage.cloud.google.com/llm-demo-v1/sneaker-collections/nike3.jpg?authuser=4\",\n",
    "    \"Nike Dunk Low Retro- White:\",\n",
    "    sneaker_images[3],\"https://storage.cloud.google.com/llm-demo-v1/sneaker-collections/nike4.jpg?authuser=4\",\n",
    "    \"Nike Dunk Low Retro- Black:\",\n",
    "    sneaker_images[4],\"https://storage.cloud.google.com/llm-demo-v1/sneaker-collections/nike5.jpg?authuser=4\",\n",
    "    \"Adidas-Sambda OG Shoes:\",\n",
    "    sneaker_images[5],\"https://storage.cloud.google.com/llm-demo-v1/sneaker-collections/adidas1.png?authuser=4\",\n",
    "    \"Adidas-Rivalry Hi shoes:\",\n",
    "    sneaker_images[6],\"https://storage.cloud.google.com/llm-demo-v1/sneaker-collections/adidas2.png?authuser=4\",\n",
    "    \"Adidas-Ultrabounce Shoes:\",\n",
    "    sneaker_images[7],\"https://storage.cloud.google.com/llm-demo-v1/sneaker-collections/adidas3.png?authuser=4\",\n",
    "    \"Adidas-Courtblock shoes:\",\n",
    "    sneaker_images[8],\"https://storage.cloud.google.com/llm-demo-v1/sneaker-collections/adidas4.png?authuser=4\",\n",
    "    \"Adidas-Stan Smith shoes:\",\n",
    "    sneaker_images[9],\"https://storage.cloud.google.com/llm-demo-v1/sneaker-collections/adidas5.png?authuser=4\",\n",
    "    \"Input Image:\",\n",
    "    input_image,\n",
    "    instructions_prompt,\n",
    "    output_prompt,\n",
    "]\n",
    "\n",
    "responses = multimodal_model.generate_content(contents, stream=True)\n",
    "\n",
    "final_output = \"\"\n",
    "for response in responses:\n",
    "    llm_output= response.text\n",
    "    clean_json_string = llm_output.strip()\n",
    "    cleaned_output = clean_json_string.strip(\"`\").replace(\"json\\n\", \"\", 1).strip()\n",
    "    final_output += cleaned_output\n",
    "    \n",
    "print(final_output)"
   ]
  },
  {
   "cell_type": "code",
   "execution_count": 9,
   "id": "39ba4f42-b756-48b3-a53a-47e62e94975f",
   "metadata": {
    "tags": []
   },
   "outputs": [],
   "source": [
    "img_paths = json.loads(final_output)[\"image_paths\"]"
   ]
  },
  {
   "cell_type": "code",
   "execution_count": 15,
   "id": "780b9eb2-9f67-4fc4-b56b-56fd2ae226ce",
   "metadata": {
    "tags": []
   },
   "outputs": [
    {
     "name": "stdout",
     "output_type": "stream",
     "text": [
      "https://storage.cloud.google.com/llm-demo-v1/sneaker-collections/adidas1.png?authuser=4\n",
      "https://storage.cloud.google.com/llm-demo-v1/sneaker-collections/adidas2.png?authuser=4\n",
      "https://storage.cloud.google.com/llm-demo-v1/sneaker-collections/adidas3.png?authuser=4\n"
     ]
    }
   ],
   "source": [
    "for i in img_paths:\n",
    "    print(i)"
   ]
  },
  {
   "cell_type": "code",
   "execution_count": 19,
   "id": "0a5b1d92-9275-4436-87c0-2e6cd05dbb4c",
   "metadata": {
    "tags": []
   },
   "outputs": [],
   "source": [
    "# pip install streamlit\n",
    "\n",
    "import streamlit as st \n",
    "def display_image_from_gcs(image_path: str):\n",
    "    \"\"\"Download an image from Google Cloud Storage and display it.\"\"\"\n",
    "    try:\n",
    "        client = storage.Client()\n",
    "        bucket_name = \"llm-demo-v1\"\n",
    "        bucket = client.bucket(bucket_name)\n",
    "        blob = bucket.blob(image_path)\n",
    "        image_bytes = blob.download_as_bytes()\n",
    "\n",
    "        # Display the image\n",
    "        st.image(image_bytes, caption='Recommended Sneaker', use_column_width=True)\n",
    "\n",
    "    except Exception as e:\n",
    "        st.error(f\"An error occurred while displaying the image from Google Cloud Storage: {str(e)}\")"
   ]
  },
  {
   "cell_type": "code",
   "execution_count": 20,
   "id": "9cab478b-b541-48f2-bfd7-6da4b0ac669c",
   "metadata": {
    "tags": []
   },
   "outputs": [
    {
     "name": "stderr",
     "output_type": "stream",
     "text": [
      "2024-03-01 20:07:11.455 \n",
      "  \u001b[33m\u001b[1mWarning:\u001b[0m to view this Streamlit app on a browser, run it with the following\n",
      "  command:\n",
      "\n",
      "    streamlit run /opt/conda/lib/python3.10/site-packages/ipykernel_launcher.py [ARGUMENTS]\n"
     ]
    }
   ],
   "source": [
    "for i in img_paths:\n",
    "    display_image_from_gcs(i)"
   ]
  }
 ],
 "metadata": {
  "environment": {
   "kernel": "python3",
   "name": "common-cpu.m116",
   "type": "gcloud",
   "uri": "gcr.io/deeplearning-platform-release/base-cpu:m116"
  },
  "kernelspec": {
   "display_name": "Python 3",
   "language": "python",
   "name": "python3"
  },
  "language_info": {
   "codemirror_mode": {
    "name": "ipython",
    "version": 3
   },
   "file_extension": ".py",
   "mimetype": "text/x-python",
   "name": "python",
   "nbconvert_exporter": "python",
   "pygments_lexer": "ipython3",
   "version": "3.10.13"
  }
 },
 "nbformat": 4,
 "nbformat_minor": 5
}
