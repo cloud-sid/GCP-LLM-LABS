{
 "cells": [
  {
   "cell_type": "code",
   "execution_count": 1,
   "id": "9a630297-f6bd-486e-a52a-dcd7b418f942",
   "metadata": {
    "tags": []
   },
   "outputs": [],
   "source": [
    "# ! pip3 install --upgrade --user google-cloud-aiplatform\n",
    "\n",
    "import vertexai\n",
    "from vertexai.generative_models import GenerativeModel\n",
    "from google.cloud import storage\n",
    "import io,json \n",
    "\n",
    "from PIL import Image as PIL_Image\n",
    "\n",
    "# Initialize Vertex AI\n",
    "PROJECT_ID = \"\"\n",
    "LOCATION = \"us-central1\"\n",
    "vertexai.init(project=PROJECT_ID, location=LOCATION)\n",
    "\n",
    "bucket_name = \"\"\n",
    "multimodal_model = GenerativeModel(\"gemini-1.0-pro-vision\")\n",
    "\n",
    "def load_image_from_gcs(bucket_name: str, blob_name: str) -> 'Image':\n",
    "    \"\"\"Load an image from Google Cloud Storage into the format expected by Vertex AI.\"\"\"\n",
    "    client = storage.Client()\n",
    "    bucket = client.bucket(bucket_name)\n",
    "    blob = bucket.blob(blob_name)\n",
    "    image_bytes = blob.download_as_bytes()\n",
    "    \n",
    "    pil_image = PIL_Image.open(io.BytesIO(image_bytes))\n",
    "    pil_image_rgb = pil_image.convert(\"RGB\")\n",
    "    \n",
    "    img_byte_arr = io.BytesIO()\n",
    "    pil_image_rgb.save(img_byte_arr, format='JPEG')\n",
    "    img_byte_arr = img_byte_arr.getvalue()\n",
    "    \n",
    "    return vertexai.generative_models.Image.from_bytes(img_byte_arr)"
   ]
  },
  {
   "cell_type": "code",
   "execution_count": 2,
   "id": "8c84dffe-3c62-4bdd-80a8-796430d51363",
   "metadata": {
    "tags": []
   },
   "outputs": [],
   "source": [
    "sneaker_image_paths = [\n",
    "    \"sneaker-collections/nike1.jpg\",\n",
    "    \"sneaker-collections/nike2.jpg\",\n",
    "    \"sneaker-collections/nike3.jpg\",\n",
    "    \"sneaker-collections/nike4.jpg\",\n",
    "    \"sneaker-collections/nike5.jpg\",\n",
    "    \"sneaker-collections/adidas1.png\",\n",
    "    \"sneaker-collections/adidas2.png\",\n",
    "    \"sneaker-collections/adidas3.png\",\n",
    "    \"sneaker-collections/adidas4.png\",\n",
    "    \"sneaker-collections/adidas5.png\"   \n",
    "]\n",
    "sneaker_images = [load_image_from_gcs(bucket_name, path) for path in sneaker_image_paths]"
   ]
  },
  {
   "cell_type": "code",
   "execution_count": 3,
   "id": "29c0163c-2faa-4017-95bb-97bed1b7624b",
   "metadata": {
    "tags": []
   },
   "outputs": [],
   "source": [
    "input_image_path = \"user-input-images/input2.png\"\n",
    "input_image = load_image_from_gcs(bucket_name, input_image_path)"
   ]
  },
  {
   "cell_type": "code",
   "execution_count": 4,
   "id": "df972f05-8ea0-4863-96aa-56b37f88901f",
   "metadata": {
    "tags": []
   },
   "outputs": [
    {
     "name": "stdout",
     "output_type": "stream",
     "text": [
      " The image shows a pair of blue jeans. The jeans are straight-legged and have a medium rise. They are made from a cotton blend fabric and have\n",
      " a zip fly and button closure.\n"
     ]
    }
   ],
   "source": [
    "prompt = \"Describe just the tshirt,shirt,trousers or jeans in the picture in brief\"\n",
    "contents = [\n",
    "    prompt,\n",
    "    input_image,\n",
    "]\n",
    "responses = multimodal_model.generate_content(contents, stream=True)\n",
    "\n",
    "for response in responses:\n",
    "    print(response.text)"
   ]
  },
  {
   "cell_type": "code",
   "execution_count": 5,
   "id": "731859a1-6dec-4017-a335-d57b85184048",
   "metadata": {
    "tags": []
   },
   "outputs": [
    {
     "name": "stdout",
     "output_type": "stream",
     "text": [
      "{\n",
      "                    \"explanation\": \"The Adidas Stan Smith shoes are a perfect match for the input image. The shoes are a classic white sneakerwith a blue heel tab and blue stripes. The jeans in the input image are a medium blue wash with a straight leg. The shoes and jeans are both casualand stylish, and they would look great together. \\n\\n The Adidas Ultraboost shoes are also a good match for the input image. The shoes area black running shoe with a blue boost sole. The jeans in the input image are a medium blue wash with a straight leg. The shoes and jeans are bothathletic and stylish, and they would look great together.\",\n",
      "                    \"image_paths\": [\"https://storage.cloud.google.com/llm-demo-v1/sneaker-collections/adidas5.png?authuser=4\", \"https://storage.cloud.google.com/llm-demo-v1/sneaker-collections/adidas3.png?authuser=4\"]\n",
      "                    }\n"
     ]
    }
   ],
   "source": [
    "fashion_expert_prompt = \"\"\"You are a fashion expert. \n",
    "                    Recommend 2 adidas sneakers which would go along with the input image\n",
    "                    along with the price and also explain why is it a good match given the input picture specifically. \n",
    "                    Respond in json with 2 keys explanation and image_path.\n",
    "                    Output Format must be strictly a json string in the below format with no illegal string terminations\n",
    "                    and must be inside quotes.\n",
    "                    \"{'explanation':'','image_paths':''}\"\n",
    "                    \"\"\"\n",
    "contents = [\n",
    "    \"Consider the following sneakers:\",\n",
    "    \"Nike Air Max 1:\",\n",
    "    sneaker_images[0],\"https://storage.cloud.google.com/llm-demo-v1/sneaker-collections/nike1.jpg?authuser=4\",\n",
    "    \"Nike Air max SC:\",\n",
    "    sneaker_images[1],\"https://storage.cloud.google.com/llm-demo-v1/sneaker-collections/nike2.jpg?authuser=4\",\n",
    "    \"Nike Air Max 1 Black:\",\n",
    "    sneaker_images[2],\"https://storage.cloud.google.com/llm-demo-v1/sneaker-collections/nike3.jpg?authuser=4\",\n",
    "    \"Nike Dunk Low Retro- White:\",\n",
    "    sneaker_images[3],\"https://storage.cloud.google.com/llm-demo-v1/sneaker-collections/nike4.jpg?authuser=4\",\n",
    "    \"Nike Dunk Low Retro- Black:\",\n",
    "    sneaker_images[4],\"https://storage.cloud.google.com/llm-demo-v1/sneaker-collections/nike5.jpg?authuser=4\",\n",
    "    \"Adidas-Sambda OG Shoes:\",\n",
    "    sneaker_images[5],\"https://storage.cloud.google.com/llm-demo-v1/sneaker-collections/adidas1.png?authuser=4\",\n",
    "    \"Adidas-Rivalry Hi shoes:\",\n",
    "    sneaker_images[6],\"https://storage.cloud.google.com/llm-demo-v1/sneaker-collections/adidas2.png?authuser=4\",\n",
    "    \"Adidas-Ultrabounce Shoes:\",\n",
    "    sneaker_images[7],\"https://storage.cloud.google.com/llm-demo-v1/sneaker-collections/adidas3.png?authuser=4\",\n",
    "    \"Adidas-Courtblock shoes:\",\n",
    "    sneaker_images[8],\"https://storage.cloud.google.com/llm-demo-v1/sneaker-collections/adidas4.png?authuser=4\",\n",
    "    \"Adidas-Stan Smith shoes:\",\n",
    "    sneaker_images[9],\"https://storage.cloud.google.com/llm-demo-v1/sneaker-collections/adidas5.png?authuser=4\",\n",
    "    \"Input Image:\",\n",
    "    input_image,\n",
    "    fashion_expert_prompt,\n",
    "]\n",
    "responses = multimodal_model.generate_content(contents, stream=True)\n",
    "\n",
    "final_output = \"\"\n",
    "for response in responses:\n",
    "    llm_output= response.text\n",
    "    clean_json_string = llm_output.strip()\n",
    "    cleaned_output = clean_json_string.strip(\"`\").replace(\"json\\n\", \"\", 1).strip()\n",
    "    # clean_json_string = ' '.join(clean_json_string.split())\n",
    "    # llm_output_dict = json.loads(clean_json_string)\n",
    "    final_output += cleaned_output\n",
    "    # final_output = json.loads(final_output)\n",
    "\n",
    "print(final_output)"
   ]
  },
  {
   "cell_type": "code",
   "execution_count": 1,
   "id": "780b9eb2-9f67-4fc4-b56b-56fd2ae226ce",
   "metadata": {
    "tags": []
   },
   "outputs": [
    {
     "ename": "NameError",
     "evalue": "name 'json' is not defined",
     "output_type": "error",
     "traceback": [
      "\u001b[0;31m---------------------------------------------------------------------------\u001b[0m",
      "\u001b[0;31mNameError\u001b[0m                                 Traceback (most recent call last)",
      "Cell \u001b[0;32mIn[1], line 1\u001b[0m\n\u001b[0;32m----> 1\u001b[0m \u001b[38;5;28mprint\u001b[39m(\u001b[43mjson\u001b[49m\u001b[38;5;241m.\u001b[39mloads(final_output))\n",
      "\u001b[0;31mNameError\u001b[0m: name 'json' is not defined"
     ]
    }
   ],
   "source": [
    "print(json.loads(final_output))"
   ]
  },
  {
   "cell_type": "code",
   "execution_count": null,
   "id": "0a5b1d92-9275-4436-87c0-2e6cd05dbb4c",
   "metadata": {
    "tags": []
   },
   "outputs": [],
   "source": []
  }
 ],
 "metadata": {
  "environment": {
   "kernel": "python3",
   "name": "common-cpu.m116",
   "type": "gcloud",
   "uri": "gcr.io/deeplearning-platform-release/base-cpu:m116"
  },
  "kernelspec": {
   "display_name": "Python 3",
   "language": "python",
   "name": "python3"
  },
  "language_info": {
   "codemirror_mode": {
    "name": "ipython",
    "version": 3
   },
   "file_extension": ".py",
   "mimetype": "text/x-python",
   "name": "python",
   "nbconvert_exporter": "python",
   "pygments_lexer": "ipython3",
   "version": "3.10.13"
  }
 },
 "nbformat": 4,
 "nbformat_minor": 5
}
